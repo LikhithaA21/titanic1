{
 "cells": [
  {
   "cell_type": "code",
   "execution_count": 1,
   "metadata": {},
   "outputs": [],
   "source": [
    "from datetime import datetime\n",
    "import numpy as np\n",
    "import pandas as pd\n",
    "import matplotlib.pyplot as plt\n",
    "%matplotlib inline"
   ]
  },
  {
   "cell_type": "code",
   "execution_count": null,
   "metadata": {},
   "outputs": [],
   "source": [
    "dataset=pd.read_csv(\"AirPassengers.csv\")"
   ]
  },
  {
   "cell_type": "code",
   "execution_count": null,
   "metadata": {},
   "outputs": [],
   "source": [
    "dataset.head()"
   ]
  },
  {
   "cell_type": "code",
   "execution_count": null,
   "metadata": {},
   "outputs": [],
   "source": [
    "dataset.info()"
   ]
  },
  {
   "cell_type": "code",
   "execution_count": null,
   "metadata": {},
   "outputs": [],
   "source": [
    "#convert string format into datetime format\n",
    "dataset['Month']=pd.to_datetime(dataset['Month'],infer_datetime_format=True)"
   ]
  },
  {
   "cell_type": "code",
   "execution_count": null,
   "metadata": {},
   "outputs": [],
   "source": [
    "indexed_data=dataset.set_index(['Month'])\n",
    "indexed_data.head()"
   ]
  },
  {
   "cell_type": "code",
   "execution_count": null,
   "metadata": {},
   "outputs": [],
   "source": [
    " dataset['Month'].dtype"
   ]
  },
  {
   "cell_type": "code",
   "execution_count": null,
   "metadata": {},
   "outputs": [],
   "source": [
    "plt.xlabel('Date')\n",
    "plt.ylabel(\"NO.of passengers\")\n",
    "plt.plot(indexed_data)"
   ]
  },
  {
   "cell_type": "code",
   "execution_count": null,
   "metadata": {},
   "outputs": [],
   "source": [
    "#DEtermine rolling statistics\n",
    "rolmean=indexed_data.rolling(window=12).mean()\n",
    "rolstd=indexed_data.rolling(window=12).std()"
   ]
  },
  {
   "cell_type": "code",
   "execution_count": null,
   "metadata": {},
   "outputs": [],
   "source": [
    "print(rolmean,rolstd)"
   ]
  },
  {
   "cell_type": "code",
   "execution_count": null,
   "metadata": {},
   "outputs": [],
   "source": [
    "rolmean.head(12)"
   ]
  },
  {
   "cell_type": "code",
   "execution_count": null,
   "metadata": {},
   "outputs": [],
   "source": [
    "original=plt.plot(indexed_data,color='blue',label='original')\n",
    "mean=plt.plot(rolmean,color='red',label='rolmean')\n",
    "std=plt.plot(rolstd,color='black',label='rolstd')\n",
    "plt.legend(loc='best')\n",
    "plt.title('rolling mean and std')\n",
    "plt.show(block=False)"
   ]
  },
  {
   "cell_type": "code",
   "execution_count": null,
   "metadata": {},
   "outputs": [],
   "source": [
    "#Dicky_Fuller test\n",
    "from statsmodels.tsa.stattools import adfuller\n",
    "print('results of dickey test:')\n",
    "dftest=adfuller(indexed_data[\"#Passengers\"],autolag='AIC')\n",
    "dfoutput=pd.Series(dftest[0:4],index=['Test statistic','P value','lag values','num of obs'])\n",
    "for key,value in dftest[4].items():\n",
    "    dfoutput['Critical value%key']=value\n",
    "print(dfoutput)"
   ]
  },
  {
   "cell_type": "code",
   "execution_count": null,
   "metadata": {},
   "outputs": [],
   "source": [
    "indexeddata_log=np.log(indexed_data)\n",
    "plt.plot(indexeddata_log)"
   ]
  },
  {
   "cell_type": "code",
   "execution_count": null,
   "metadata": {},
   "outputs": [],
   "source": [
    "#series stationaey\n",
    "mvgAvg=indexeddata_log.rolling(window=12).mean()\n",
    "mvgStd=indexeddata_log.rolling(window=12).std()\n",
    "plt.plot(indexeddata_log)\n",
    "plt.plot(mvgAvg,color='gray')\n",
    "#dataset-mvgavg=indexeddata_log-mvgavg\n",
    "#dataset.head()"
   ]
  },
  {
   "cell_type": "code",
   "execution_count": null,
   "metadata": {},
   "outputs": [],
   "source": [
    "dataset_mvgAvg = indexeddata_log - mvgAvg\n",
    "dataset_mvgAvg.head(12)\n"
   ]
  },
  {
   "cell_type": "code",
   "execution_count": null,
   "metadata": {},
   "outputs": [],
   "source": [
    "#remove nullvalues\n",
    "dataset_mvgAvg.dropna(inplace=True)\n",
    "dataset_mvgAvg.head(10)"
   ]
  },
  {
   "cell_type": "code",
   "execution_count": null,
   "metadata": {},
   "outputs": [],
   "source": [
    "from statsmodels.tsa.stattools import adfuller\n",
    "def test_stationarity(timeseries):\n",
    "    mvgAvg=timeseries.rolling(window=12).mean()\n",
    "    mvgStd=timeseries.rolling(window=12).std()\n",
    "    original=plt.plot(timeseries,color='blue',label='original')\n",
    "    mean=plt.plot(mvgAvg,color='red',label='rolmean')\n",
    "    std=plt.plot(mvgStd,color='black',label='rolstd')\n",
    "    plt.legend(loc='best')\n",
    "    plt.title('rolling mean and std')\n",
    "    plt.show(block=False)      \n",
    "    from statsmodels.tsa.stattools import adfuller\n",
    "    print('results of dickey test:')\n",
    "    dftest=adfuller(timeseries[\"#Passengers\"],autolag='AIC')\n",
    "    dfoutput=pd.Series(dftest[0:4],index=['Test statistic','P value','lag values','num of obs'])\n",
    "    for key,value in dftest[4].items():\n",
    "        dfoutput['Critical value%key']=value\n",
    "    print(dfoutput)"
   ]
  },
  {
   "cell_type": "code",
   "execution_count": null,
   "metadata": {},
   "outputs": [],
   "source": [
    "test_stationarity(dataset_mvgAvg)"
   ]
  },
  {
   "cell_type": "code",
   "execution_count": null,
   "metadata": {},
   "outputs": [],
   "source": [
    "#exponential \n",
    "expdecaywtavg=indexeddata_log.ewm(halflife=12,min_periods=0,adjust=True).mean()\n",
    "plt.plot(indexeddata_log)\n",
    "plt.plot(expdecaywtavg)\n",
    "dataexpdecaywtavg=indexed_data-expdecaywtavg\n",
    "test_stationarity(dataexpdecaywtavg)"
   ]
  },
  {
   "cell_type": "code",
   "execution_count": null,
   "metadata": {},
   "outputs": [],
   "source": [
    "datalogshift=indexeddata_log-indexeddata_log.shift()\n",
    "plt.plot(datalogshift)\n",
    "datalogshift.dropna(inplace=True)\n",
    "test_stationarity(datalogshift)"
   ]
  },
  {
   "cell_type": "code",
   "execution_count": null,
   "metadata": {},
   "outputs": [],
   "source": [
    "from statsmodels.tsa.seasonal import seasonal_decompose\n",
    "decomp=seasonal_decompose(indexeddata_log)"
   ]
  },
  {
   "cell_type": "code",
   "execution_count": null,
   "metadata": {},
   "outputs": [],
   "source": [
    "trend=decomp.trend\n",
    "sea=decomp.seasonal\n",
    "resid=decomp.residplt.subplot(411)\n",
    "plt.plot(indexeddata_log,label='original')\n",
    "plt.legend(loc='best')\n",
    "plt.subplot(412)\n",
    "plt.plot(trend,label='trend')\n",
    "plt.legend(loc='best')\n",
    "plt.subplot(413)\n",
    "plt.plot(sea,label='seasonal')\n",
    "plt.legend(loc='best')\n",
    "plt.subplot(414)\n",
    "plt.plot(resid,label='resid')\n",
    "plt.legend(loc='best')\n",
    "plt.tight_layout()"
   ]
  },
  {
   "cell_type": "code",
   "execution_count": null,
   "metadata": {},
   "outputs": [],
   "source": [
    "decomplog=resid\n",
    "decomplog.dropna(inplace=True)\n",
    "test_stationarity(decomplog)"
   ]
  },
  {
   "cell_type": "code",
   "execution_count": null,
   "metadata": {},
   "outputs": [],
   "source": [
    "#ACF AND PACF\n",
    "from statsmodels.tsa.stattools import acf,pacf\n",
    "log_acf=acf(datalogshift,nlags=20)\n",
    "log_pacf=pacf(datalogshift,nlags=20,method='ols')\n"
   ]
  },
  {
   "cell_type": "code",
   "execution_count": null,
   "metadata": {},
   "outputs": [],
   "source": [
    "#plot acf\n",
    "plt.subplot(121)\n",
    "plt.plot(log_acf)\n",
    "plt.axhline(y=0,linestyle=\"--\",color='gray')\n",
    "plt.axhline(y=-1.96/np.sqrt(len(datalogshift)))\n",
    "plt.axhline(y=0,linestyle=\"--\",color='gray')\n",
    "plt.axhline(y=1.96/np.sqrt(len(datalogshift)))\n",
    "plt.title('AUTOCORRELATIONPLOT')\n",
    "plt.subplot(122)\n",
    "plt.plot(log_acf)\n",
    "plt.axhline(y=0,linestyle=\"--\",color='gray')\n",
    "plt.axhline(y=-1.96/np.sqrt(len(datalogshift)))\n",
    "plt.axhline(y=0,linestyle=\"--\",color='gray')\n",
    "plt.axhline(y=1.96/np.sqrt(len(datalogshift)))\n",
    "plt.title('AUTOCORRELATIONPLOT')\n",
    "plt.tight_layout()\n",
    "\n"
   ]
  },
  {
   "cell_type": "code",
   "execution_count": null,
   "metadata": {},
   "outputs": [],
   "source": [
    "from statsmodels.tsa.arima_model import ARIMA\n",
    "model=ARIMA(indexeddata_log,order=(2,1,2))\n",
    "results_AR=model.fit(disp=-1)\n",
    "plt.plot(datalogshift)\n",
    "plt.plot(results_AR.fittedvalues,color='red')\n",
    "plt.title('RSS: %.4f'%sum((results_AR.fittedvalues-datalogshift['#Passengers'])**2))\n",
    "print('results')"
   ]
  },
  {
   "cell_type": "code",
   "execution_count": null,
   "metadata": {},
   "outputs": [],
   "source": []
  },
  {
   "cell_type": "code",
   "execution_count": null,
   "metadata": {},
   "outputs": [],
   "source": []
  }
 ],
 "metadata": {
  "kernelspec": {
   "display_name": "Python 3",
   "language": "python",
   "name": "python3"
  },
  "language_info": {
   "codemirror_mode": {
    "name": "ipython",
    "version": 3
   },
   "file_extension": ".py",
   "mimetype": "text/x-python",
   "name": "python",
   "nbconvert_exporter": "python",
   "pygments_lexer": "ipython3",
   "version": "3.7.6"
  }
 },
 "nbformat": 4,
 "nbformat_minor": 4
}
